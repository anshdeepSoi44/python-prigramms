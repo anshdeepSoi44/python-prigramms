{
 "cells": [
  {
   "cell_type": "code",
   "execution_count": 7,
   "id": "c247db62",
   "metadata": {},
   "outputs": [
    {
     "name": "stdout",
     "output_type": "stream",
     "text": [
      "marks of one subject 95\n",
      "marks of two subject 90\n",
      "marks of three subject 80\n",
      "marks of four subject 70\n",
      "marks of five subject 60\n"
     ]
    }
   ],
   "source": [
    "a=int(input(\"marks of one subject \"))\n",
    "b=int(input(\"marks of two subject \"))\n",
    "c=int(input(\"marks of three subject \"))\n",
    "d=int(input(\"marks of four subject \"))\n",
    "e=int(input(\"marks of five subject \"))"
   ]
  },
  {
   "cell_type": "code",
   "execution_count": 8,
   "id": "db2ce18d",
   "metadata": {},
   "outputs": [
    {
     "name": "stdout",
     "output_type": "stream",
     "text": [
      "395\n"
     ]
    }
   ],
   "source": [
    "sum = a+b+c+d+e\n",
    "print(sum)"
   ]
  },
  {
   "cell_type": "code",
   "execution_count": 19,
   "id": "a90ad7e8",
   "metadata": {},
   "outputs": [],
   "source": [
    "percentage = sum/5"
   ]
  },
  {
   "cell_type": "code",
   "execution_count": 20,
   "id": "eddb80c6",
   "metadata": {},
   "outputs": [
    {
     "name": "stdout",
     "output_type": "stream",
     "text": [
      "79.0\n"
     ]
    }
   ],
   "source": [
    "print(percentage)"
   ]
  },
  {
   "cell_type": "code",
   "execution_count": 1,
   "id": "8259df46",
   "metadata": {},
   "outputs": [
    {
     "name": "stdout",
     "output_type": "stream",
     "text": [
      "it's a hot day!\n"
     ]
    }
   ],
   "source": [
    "temp=35\n",
    "if temp>30:\n",
    "    print(\"it's a hot day!\")"
   ]
  },
  {
   "cell_type": "code",
   "execution_count": 7,
   "id": "4d939fdf",
   "metadata": {},
   "outputs": [
    {
     "name": "stdout",
     "output_type": "stream",
     "text": [
      "it's a beautiful day!\n"
     ]
    }
   ],
   "source": [
    "temp=20\n",
    "if temp>30:\n",
    "    print(\"it's a hot day!\")\n",
    "print(\"it's a beautiful day!\")"
   ]
  },
  {
   "cell_type": "code",
   "execution_count": 5,
   "id": "0316ad38",
   "metadata": {},
   "outputs": [
    {
     "name": "stdout",
     "output_type": "stream",
     "text": [
      "its a cold day!\n",
      "its a beautiful day!\n"
     ]
    }
   ],
   "source": [
    "temp=12\n",
    "if temp>30:\n",
    "    print(\"its a hot day!\")\n",
    "elif temp>20:\n",
    "    print(\"its a plesent day!\")\n",
    "elif temp>10:\n",
    "    print(\"its a cold day!\")\n",
    "else:\n",
    "    print(\"its a chilly day!\")\n",
    "print(\"its a beautiful day!\")"
   ]
  },
  {
   "cell_type": "code",
   "execution_count": 6,
   "id": "bd3f72f3",
   "metadata": {},
   "outputs": [
    {
     "name": "stdout",
     "output_type": "stream",
     "text": [
      "what is tempreture today?19.5\n"
     ]
    }
   ],
   "source": []
  },
  {
   "cell_type": "code",
   "execution_count": 24,
   "id": "c4b7f95e",
   "metadata": {},
   "outputs": [
    {
     "name": "stdout",
     "output_type": "stream",
     "text": [
      "what is tempreture today?22.45\n",
      "22.45\n",
      "it's a cold day!\n"
     ]
    }
   ],
   "source": [
    "\n",
    "temp = float(input(\"what is tempreture today?\"))\n",
    "print(temp)\n",
    "if temp>15:\n",
    "    print(\"it's a cold day!\")\n",
    "elif temp>20:\n",
    "    print(\"it's a bad day!\")\n"
   ]
  },
  {
   "cell_type": "code",
   "execution_count": 28,
   "id": "b73e3e05",
   "metadata": {},
   "outputs": [
    {
     "name": "stdout",
     "output_type": "stream",
     "text": [
      "marks of one subjecct90\n",
      "marks of two subjecct56\n",
      "marks of three subjecct35\n",
      "marks of four subjecct35\n",
      "marks of five subjecct65\n"
     ]
    }
   ],
   "source": [
    "a=float(input(\"marks of one subjecct\"))\n",
    "b=float(input(\"marks of two subjecct\"))\n",
    "c=float(input(\"marks of three subjecct\"))\n",
    "d=float(input(\"marks of four subjecct\"))\n",
    "e=float(input(\"marks of five subjecct\"))"
   ]
  },
  {
   "cell_type": "code",
   "execution_count": 29,
   "id": "b553841f",
   "metadata": {},
   "outputs": [
    {
     "name": "stdout",
     "output_type": "stream",
     "text": [
      "281.0\n"
     ]
    }
   ],
   "source": [
    "sum=a+b+c+d+e\n",
    "print(sum)\n"
   ]
  },
  {
   "cell_type": "code",
   "execution_count": 34,
   "id": "bbc19459",
   "metadata": {},
   "outputs": [
    {
     "name": "stdout",
     "output_type": "stream",
     "text": [
      "56.2\n"
     ]
    }
   ],
   "source": [
    "percentage = sum/5\n",
    "\n",
    "print(percentage)"
   ]
  },
  {
   "cell_type": "code",
   "execution_count": 5,
   "id": "3fe33a7a",
   "metadata": {},
   "outputs": [],
   "source": [
    "#define a user function that prints\n"
   ]
  },
  {
   "cell_type": "code",
   "execution_count": 8,
   "id": "5495b4bf",
   "metadata": {},
   "outputs": [
    {
     "name": "stdout",
     "output_type": "stream",
     "text": [
      "Happy Birthday to you!\n",
      "May god bless you\n",
      "Happy Birthday to you!\n",
      "Happy Birthday to you!\n",
      "May god bless you\n",
      "Happy Birthday to you!\n",
      "Happy Birthday to you!\n",
      "May god bless you\n",
      "Happy Birthday to you!\n",
      "\n"
     ]
    }
   ],
   "source": [
    "def happy():\n",
    "    print(\"Happy Birthday to you!\\nMay god bless you\\nHappy Birthday to you!\\n\"*3)\n",
    "happy()"
   ]
  },
  {
   "cell_type": "code",
   "execution_count": 12,
   "id": "86a6b51f",
   "metadata": {},
   "outputs": [
    {
     "name": "stdout",
     "output_type": "stream",
     "text": [
      "happy birthday to you\n",
      "may god bless you\n",
      "may god bless you\n",
      "may god bless you\n",
      "may god bless you\n",
      "\n"
     ]
    }
   ],
   "source": [
    "def happy():\n",
    "   print(\"happy birthday to you\")\n",
    "   print(\"may god bless you\\n\"*4)\n",
    "happy()"
   ]
  },
  {
   "cell_type": "code",
   "execution_count": 18,
   "id": "16a759ab",
   "metadata": {},
   "outputs": [
    {
     "name": "stdout",
     "output_type": "stream",
     "text": [
      "70\n"
     ]
    }
   ],
   "source": [
    "def sum(num1,num2):\n",
    "    add=num1+num2\n",
    "    print(add)\n",
    "    \n",
    "sum(30,40)"
   ]
  },
  {
   "cell_type": "code",
   "execution_count": 20,
   "id": "826a0f92",
   "metadata": {},
   "outputs": [
    {
     "name": "stdout",
     "output_type": "stream",
     "text": [
      "60\n"
     ]
    }
   ],
   "source": [
    "def division(num1,num2):\n",
    "    division=num1-num2\n",
    "    print(division)\n",
    "    \n",
    "division(100,40)"
   ]
  },
  {
   "cell_type": "code",
   "execution_count": 29,
   "id": "56a35a0c",
   "metadata": {},
   "outputs": [
    {
     "name": "stdout",
     "output_type": "stream",
     "text": [
      "10.0\n"
     ]
    }
   ],
   "source": [
    "def percentage(num1,num2):\n",
    "    percentage=(num1*100)/num2\n",
    "    print(percentage)\n",
    "    \n",
    "percentage(10,100)"
   ]
  },
  {
   "cell_type": "code",
   "execution_count": 2,
   "id": "5ad03698",
   "metadata": {},
   "outputs": [
    {
     "name": "stdout",
     "output_type": "stream",
     "text": [
      "enter number10\n",
      "80\n"
     ]
    }
   ],
   "source": [
    "a=int(input(\"enter number\"))\n",
    "b=a*8\n",
    "print(b)"
   ]
  },
  {
   "cell_type": "code",
   "execution_count": 2,
   "id": "b2ec208e",
   "metadata": {},
   "outputs": [
    {
     "name": "stdout",
     "output_type": "stream",
     "text": [
      "enter first number5\n",
      "enter second number6\n",
      "enter third number7\n",
      "root is imaginary\n"
     ]
    }
   ],
   "source": [
    "a=int(input(\"enter first number\"))\n",
    "b=int(input(\"enter second number\"))\n",
    "c=int(input(\"enter third number\"))\n",
    "def root(num1,num2,num3):\n",
    "    delta=b**2-4*a*c\n",
    "    if delta>0:\n",
    "        root1=(-b+(delta**0.5))/2*a\n",
    "        root2=(-b+(delta**0.5))/2*a\n",
    "    elif delta==0:\n",
    "        root=-b/(2*a)\n",
    "        print(\"root is:\",root)\n",
    "    else:\n",
    "        print(\"root is imaginary\")\n",
    "root(a,b,c)"
   ]
  },
  {
   "cell_type": "code",
   "execution_count": 4,
   "id": "de078d8b",
   "metadata": {},
   "outputs": [
    {
     "name": "stdout",
     "output_type": "stream",
     "text": [
      "HELLO WORLD\n"
     ]
    }
   ],
   "source": [
    "count=0\n",
    "if count<3:\n",
    "    count=count+1\n",
    "    print(\"HELLO WORLD\")"
   ]
  },
  {
   "cell_type": "code",
   "execution_count": 6,
   "id": "c9ee41e1",
   "metadata": {},
   "outputs": [
    {
     "name": "stdout",
     "output_type": "stream",
     "text": [
      "HELLO WORLD\n",
      "HELLO WORLD\n",
      "HELLO WORLD\n",
      "HELLO WORLD\n"
     ]
    }
   ],
   "source": [
    "count=0\n",
    "while(count<=3):\n",
    "    count=count+1\n",
    "    print(\"HELLO WORLD\")"
   ]
  },
  {
   "cell_type": "code",
   "execution_count": 9,
   "id": "592608ae",
   "metadata": {},
   "outputs": [
    {
     "name": "stdout",
     "output_type": "stream",
     "text": [
      "4\n",
      "3\n",
      "2\n",
      "1\n",
      "0\n"
     ]
    }
   ],
   "source": [
    "a=5\n",
    "while(a!=0):\n",
    "    a=a-1\n",
    "    print(a)"
   ]
  },
  {
   "cell_type": "code",
   "execution_count": 11,
   "id": "c21fb0aa",
   "metadata": {},
   "outputs": [
    {
     "name": "stdout",
     "output_type": "stream",
     "text": [
      "1\n",
      "2\n",
      "3\n",
      "4\n",
      "5\n",
      "6\n",
      "7\n",
      "8\n"
     ]
    }
   ],
   "source": [
    "a=0\n",
    "while(a!=8):\n",
    "    a=a+1\n",
    "    print(a)"
   ]
  },
  {
   "cell_type": "code",
   "execution_count": 12,
   "id": "e2b65bcd",
   "metadata": {},
   "outputs": [
    {
     "name": "stdout",
     "output_type": "stream",
     "text": [
      "0\n",
      "1\n",
      "2\n",
      "3\n",
      "4\n",
      "5\n",
      "6\n",
      "7\n"
     ]
    }
   ],
   "source": [
    "a=0\n",
    "while(a!=8):\n",
    "    print(a)\n",
    "    a=a+1"
   ]
  },
  {
   "cell_type": "code",
   "execution_count": 18,
   "id": "05fa5d59",
   "metadata": {},
   "outputs": [
    {
     "name": "stdout",
     "output_type": "stream",
     "text": [
      "1\n",
      "2\n",
      "3\n",
      "4\n",
      "5\n",
      "6\n",
      "7\n",
      "8\n",
      "9\n"
     ]
    }
   ],
   "source": [
    "a=0\n",
    "while(a<8):\n",
    "    a=a+1\n",
    "    print(a)"
   ]
  },
  {
   "cell_type": "code",
   "execution_count": 25,
   "id": "a0f093b4",
   "metadata": {},
   "outputs": [
    {
     "ename": "SyntaxError",
     "evalue": "cannot assign to literal here. Maybe you meant '==' instead of '='? (985510654.py, line 2)",
     "output_type": "error",
     "traceback": [
      "\u001b[1;36m  Cell \u001b[1;32mIn[25], line 2\u001b[1;36m\u001b[0m\n\u001b[1;33m    while(1= to exit):\u001b[0m\n\u001b[1;37m          ^\u001b[0m\n\u001b[1;31mSyntaxError\u001b[0m\u001b[1;31m:\u001b[0m cannot assign to literal here. Maybe you meant '==' instead of '='?\n"
     ]
    }
   ],
   "source": [
    "a=int(input(\"enter a number\"))\n",
    "while(1= to exit):\n",
    "    print(a)"
   ]
  }
 ],
 "metadata": {
  "kernelspec": {
   "display_name": "Python 3 (ipykernel)",
   "language": "python",
   "name": "python3"
  },
  "language_info": {
   "codemirror_mode": {
    "name": "ipython",
    "version": 3
   },
   "file_extension": ".py",
   "mimetype": "text/x-python",
   "name": "python",
   "nbconvert_exporter": "python",
   "pygments_lexer": "ipython3",
   "version": "3.11.4"
  }
 },
 "nbformat": 4,
 "nbformat_minor": 5
}
