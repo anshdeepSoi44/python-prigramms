{
 "cells": [
  {
   "cell_type": "code",
   "execution_count": 3,
   "id": "5306a741",
   "metadata": {},
   "outputs": [
    {
     "name": "stdout",
     "output_type": "stream",
     "text": [
      "[9, 2, 3, 4, 5, 6, 7, 8, 1]\n"
     ]
    }
   ],
   "source": [
    "1#interchange first and last\n",
    "l=[1,2,3,4,5,6,7,8,9]\n",
    "l[0],l[8]=l[8],l[0]\n",
    "print(l)"
   ]
  },
  {
   "cell_type": "code",
   "execution_count": 4,
   "id": "3c73ff59",
   "metadata": {},
   "outputs": [
    {
     "name": "stdout",
     "output_type": "stream",
     "text": [
      "[1, 4, 3, 2, 5, 6]\n"
     ]
    }
   ],
   "source": [
    "2#inter swap two elements\n",
    "l=[1,2,3,4,5,6]\n",
    "l[1],l[3]=l[3],l[1]\n",
    "print(l)"
   ]
  },
  {
   "cell_type": "code",
   "execution_count": 6,
   "id": "61c2271d",
   "metadata": {},
   "outputs": [
    {
     "name": "stdout",
     "output_type": "stream",
     "text": [
      "['b', 'a', 'c', 'd', 'e']\n"
     ]
    }
   ],
   "source": [
    "3# swap string\n",
    "l1=[\"a\",\"b\",\"c\",\"d\",\"e\"]\n",
    "l1[0],l1[1]=l1[1],l1[0]\n",
    "print(l1)"
   ]
  },
  {
   "cell_type": "code",
   "execution_count": 7,
   "id": "6cdf8db5",
   "metadata": {},
   "outputs": [
    {
     "data": {
      "text/plain": [
       "9"
      ]
     },
     "execution_count": 7,
     "metadata": {},
     "output_type": "execute_result"
    }
   ],
   "source": [
    "4# lenth\n",
    "l=[1,2,3,4,5,6,7,8,9]\n",
    "len(l)"
   ]
  },
  {
   "cell_type": "code",
   "execution_count": 8,
   "id": "bf79a0e3",
   "metadata": {},
   "outputs": [
    {
     "name": "stdout",
     "output_type": "stream",
     "text": [
      "a is greater than b\n"
     ]
    }
   ],
   "source": [
    "5#maximum\n",
    "a=10\n",
    "b=8\n",
    "if (a>b):\n",
    "    print(\"a is greater than b\")\n",
    "else:\n",
    "    print(\"b is greater than a\")"
   ]
  },
  {
   "cell_type": "code",
   "execution_count": 1,
   "id": "436fa972",
   "metadata": {},
   "outputs": [
    {
     "name": "stdout",
     "output_type": "stream",
     "text": [
      "a is less than b\n"
     ]
    }
   ],
   "source": [
    "6# minimum\n",
    "a=8\n",
    "b=10\n",
    "if (a<b):\n",
    "    print(\"a is less than b\")\n",
    "else:\n",
    "    print(\"a is greater than b\")\n",
    "\n"
   ]
  },
  {
   "cell_type": "code",
   "execution_count": 3,
   "id": "bff83454",
   "metadata": {},
   "outputs": [
    {
     "name": "stdout",
     "output_type": "stream",
     "text": [
      "yes\n"
     ]
    }
   ],
   "source": [
    "7#check list item\n",
    "l=[1,2,3,4,5,6]\n",
    "a=2\n",
    "if a in l:\n",
    "    print(\"yes\")\n",
    "else:\n",
    "    print(\"no\")"
   ]
  },
  {
   "cell_type": "code",
   "execution_count": 6,
   "id": "4b66ad86",
   "metadata": {},
   "outputs": [
    {
     "name": "stdout",
     "output_type": "stream",
     "text": [
      "[]\n"
     ]
    }
   ],
   "source": [
    "8#clear method\n",
    "l=[1,2,3,4,5,6]\n",
    "l.clear()\n",
    "print(l)"
   ]
  },
  {
   "cell_type": "code",
   "execution_count": 10,
   "id": "c0702c6d",
   "metadata": {},
   "outputs": [
    {
     "name": "stdout",
     "output_type": "stream",
     "text": [
      "[]\n"
     ]
    }
   ],
   "source": [
    "l=[1,2,3,4,5,6]\n",
    "del l[:]\n",
    "print(l)"
   ]
  },
  {
   "cell_type": "code",
   "execution_count": 4,
   "id": "63894f0c",
   "metadata": {},
   "outputs": [
    {
     "name": "stdout",
     "output_type": "stream",
     "text": [
      "[]\n"
     ]
    }
   ],
   "source": [
    "l1=[1,2,3,4]\n",
    "while (len(l1)!=0):\n",
    "    l1.pop()\n",
    "print(l1)"
   ]
  },
  {
   "cell_type": "code",
   "execution_count": 5,
   "id": "2029f6ad",
   "metadata": {},
   "outputs": [
    {
     "name": "stdout",
     "output_type": "stream",
     "text": [
      "[6, 5, 4, 3, 2, 1]\n"
     ]
    }
   ],
   "source": [
    "9#reversing list item\n",
    "l=[1,2,3,4,5,6]\n",
    "l1=l[:: -1]\n",
    "print(l1)"
   ]
  },
  {
   "cell_type": "code",
   "execution_count": 6,
   "id": "c93502c9",
   "metadata": {},
   "outputs": [
    {
     "data": {
      "text/plain": [
       "[1, 2, 3, 4, 5, 6]"
      ]
     },
     "execution_count": 6,
     "metadata": {},
     "output_type": "execute_result"
    }
   ],
   "source": [
    "10#copy method\n",
    "l1=[1,2,3,4,5,6]\n",
    "l1.copy()"
   ]
  },
  {
   "cell_type": "code",
   "execution_count": 17,
   "id": "4675ff72",
   "metadata": {},
   "outputs": [
    {
     "data": {
      "text/plain": [
       "4"
      ]
     },
     "execution_count": 17,
     "metadata": {},
     "output_type": "execute_result"
    }
   ],
   "source": [
    "11#count method\n",
    "list1=[1,2,3,4,5,6,3,5,3,5,3]\n",
    "list1.count(3)\n"
   ]
  },
  {
   "cell_type": "code",
   "execution_count": 3,
   "id": "6389bfe1",
   "metadata": {},
   "outputs": [
    {
     "name": "stdout",
     "output_type": "stream",
     "text": [
      "3.5\n"
     ]
    }
   ],
   "source": [
    "12#average\n",
    "l=[1,2,3,4,5,6]\n",
    "avg= sum(l)/len(l)\n",
    "print(avg)"
   ]
  },
  {
   "cell_type": "code",
   "execution_count": 5,
   "id": "58be75d1",
   "metadata": {},
   "outputs": [
    {
     "name": "stdout",
     "output_type": "stream",
     "text": [
      "21\n"
     ]
    }
   ],
   "source": [
    "12.1#sum\n",
    "l=[1,2,3,4,5,6]\n",
    "a=sum(l)\n",
    "print(a)"
   ]
  },
  {
   "cell_type": "code",
   "execution_count": 6,
   "id": "da3cd173",
   "metadata": {},
   "outputs": [
    {
     "data": {
      "text/plain": [
       "45"
      ]
     },
     "execution_count": 6,
     "metadata": {},
     "output_type": "execute_result"
    }
   ],
   "source": [
    "13#sum of all number in a list\n",
    "list=[1,2,3,4,5,6,7,8,9]\n",
    "sum(list)"
   ]
  },
  {
   "cell_type": "code",
   "execution_count": 11,
   "id": "aa87bfc7",
   "metadata": {},
   "outputs": [
    {
     "name": "stdout",
     "output_type": "stream",
     "text": [
      "720\n"
     ]
    }
   ],
   "source": [
    "14#multification\n",
    "import math\n",
    "l=[1,2,3,4,5,6]\n",
    "multi=math.prod(l)\n",
    "print(multi)"
   ]
  },
  {
   "cell_type": "code",
   "execution_count": 5,
   "id": "2a624107",
   "metadata": {},
   "outputs": [
    {
     "data": {
      "text/plain": [
       "1"
      ]
     },
     "execution_count": 5,
     "metadata": {},
     "output_type": "execute_result"
    }
   ],
   "source": [
    "15#minimum value in list\n",
    "l=[1,2,3,4,5,6]\n",
    "min(l)\n"
   ]
  },
  {
   "cell_type": "code",
   "execution_count": 6,
   "id": "5a48b075",
   "metadata": {},
   "outputs": [
    {
     "data": {
      "text/plain": [
       "6"
      ]
     },
     "execution_count": 6,
     "metadata": {},
     "output_type": "execute_result"
    }
   ],
   "source": [
    "16# largest number in a list\n",
    "l=[1,2,3,4,5,6]\n",
    "max(l)"
   ]
  },
  {
   "cell_type": "code",
   "execution_count": 11,
   "id": "57874709",
   "metadata": {},
   "outputs": [
    {
     "name": "stdout",
     "output_type": "stream",
     "text": [
      "[10, 20, 30, 45, 56]\n",
      "second largest value: 45\n"
     ]
    }
   ],
   "source": [
    "17#find second largest value\n",
    "list=[10,20,30,56,45]\n",
    "list.sort()\n",
    "print(list)\n",
    "a=list[3]\n",
    "print(\"second largest value:\",a)\n"
   ]
  },
  {
   "cell_type": "code",
   "execution_count": 6,
   "id": "204f4555",
   "metadata": {},
   "outputs": [
    {
     "name": "stdout",
     "output_type": "stream",
     "text": [
      "enter a number6\n",
      "even number\n"
     ]
    }
   ],
   "source": [
    "18# check even number\n",
    "a=int(input(\"enter a number\"))\n",
    "if a%2==0:\n",
    "      print(\"even number\")\n",
    "else:\n",
    "      print(\"no even number here\")"
   ]
  },
  {
   "cell_type": "code",
   "execution_count": 9,
   "id": "b2c7b6ab",
   "metadata": {},
   "outputs": [
    {
     "name": "stdout",
     "output_type": "stream",
     "text": [
      "enter a number7\n",
      "odd number\n"
     ]
    }
   ],
   "source": [
    "19# check odd number\n",
    "a=int(input(\"enter a number\"))\n",
    "if a%2!=0:\n",
    "    print(\"odd number\")\n",
    "else:\n",
    "    print(\"no odd number here\")"
   ]
  },
  {
   "cell_type": "code",
   "execution_count": 16,
   "id": "04f3bb00",
   "metadata": {},
   "outputs": [
    {
     "name": "stdout",
     "output_type": "stream",
     "text": [
      "enter a number till end10\n",
      "2\n",
      "4\n",
      "6\n",
      "8\n",
      "10\n"
     ]
    }
   ],
   "source": [
    "20# print even number in range\n",
    "a=int(input(\"enter a number till end\"))\n",
    "i=2\n",
    "for i in range(2,a+1,2):\n",
    "    print(i)"
   ]
  },
  {
   "cell_type": "code",
   "execution_count": 18,
   "id": "c8a4bcc1",
   "metadata": {},
   "outputs": [
    {
     "name": "stdout",
     "output_type": "stream",
     "text": [
      "enter a number till end10\n",
      "1\n",
      "3\n",
      "5\n",
      "7\n",
      "9\n"
     ]
    }
   ],
   "source": [
    "21# print odd number in range\n",
    "a=int(input(\"enter a number till end\"))\n",
    "i=1\n",
    "for i in range(1,a,2):\n",
    "    print(i)"
   ]
  },
  {
   "cell_type": "code",
   "execution_count": 14,
   "id": "1b00cc9f",
   "metadata": {},
   "outputs": [
    {
     "name": "stdout",
     "output_type": "stream",
     "text": [
      "even number in the list : 5\n",
      "odd number in the list : 4\n"
     ]
    }
   ],
   "source": [
    "22#count odd and even number in list\n",
    "l=[1,10,12,15,16,17,19,2,4,]\n",
    "a,b=0,0\n",
    "for i in l:\n",
    "    if i%2==0:\n",
    "        a=i+1\n",
    "    else:\n",
    "        b=b+1\n",
    "print(\"even number in the list :\",a)\n",
    "print(\"odd number in the list :\",b)     "
   ]
  },
  {
   "cell_type": "code",
   "execution_count": 3,
   "id": "bbde7ba1",
   "metadata": {},
   "outputs": [
    {
     "name": "stdout",
     "output_type": "stream",
     "text": [
      "11\n",
      "25\n",
      "32\n",
      "23\n",
      "21\n",
      "65\n"
     ]
    }
   ],
   "source": [
    "23# print positive number in list\n",
    "l=[11,25,32,23,21,-45,65,-11]\n",
    "def positive_number():\n",
    "    for p in l:\n",
    "        if p>0:\n",
    "            print(p)\n",
    "positive_number()"
   ]
  },
  {
   "cell_type": "code",
   "execution_count": 27,
   "id": "f38f6a14",
   "metadata": {},
   "outputs": [
    {
     "name": "stdout",
     "output_type": "stream",
     "text": [
      "-45\n",
      "-11\n"
     ]
    }
   ],
   "source": [
    "24# print negative number in list\n",
    "l=[11,25,32,23,21,-45,65,-11]\n",
    "def positive_number():\n",
    "    for p in l:\n",
    "        if p<0:\n",
    "            print(p)\n",
    "positive_number()"
   ]
  },
  {
   "cell_type": "code",
   "execution_count": 6,
   "id": "87ad3c6a",
   "metadata": {},
   "outputs": [
    {
     "name": "stdout",
     "output_type": "stream",
     "text": [
      "enter a number10\n",
      "0\n",
      "2\n",
      "4\n",
      "6\n",
      "8\n",
      "10\n"
     ]
    }
   ],
   "source": [
    "25#print positive number in range\n",
    "a=int(input(\"enter a number\"))\n",
    "def pos_num():\n",
    "    for i in range (0,a+1,2):\n",
    "        print(i)\n",
    "pos_num()"
   ]
  },
  {
   "cell_type": "code",
   "execution_count": 37,
   "id": "ec533542",
   "metadata": {},
   "outputs": [
    {
     "name": "stdout",
     "output_type": "stream",
     "text": [
      "enter a start number-20\n",
      "enter end number-5\n",
      "-20 -19 -18 -17 -16 -15 -14 -13 -12 -11 -10 -9 -8 -7 -6 -5 "
     ]
    }
   ],
   "source": [
    "26#print negative number in range\n",
    "def neg_num():\n",
    "    a=int(input(\"enter a start number\"))\n",
    "    b=int(input(\"enter end number\"))\n",
    "    for i in range (a,b+1):\n",
    "        if i<0:\n",
    "            print(i, end = \" \")\n",
    "neg_num()"
   ]
  },
  {
   "cell_type": "code",
   "execution_count": 5,
   "id": "14337544",
   "metadata": {},
   "outputs": [
    {
     "name": "stdout",
     "output_type": "stream",
     "text": [
      "4\n",
      "3\n"
     ]
    }
   ],
   "source": [
    "27#count positive and negative number in list\n",
    "l1 =[11,-22,22,84,-11,36,-42]\n",
    "pos_num,neg_num = 0,0\n",
    "for i in l1:\n",
    "    if i>0:\n",
    "        pos_num=pos_num+1\n",
    "    else:\n",
    "        neg_num=neg_num+1\n",
    "print(pos_num)\n",
    "print(neg_num)"
   ]
  },
  {
   "cell_type": "code",
   "execution_count": 6,
   "id": "6425502d",
   "metadata": {},
   "outputs": [
    {
     "name": "stdout",
     "output_type": "stream",
     "text": [
      "[11, 65, 32, 32, 45, 78]\n"
     ]
    }
   ],
   "source": [
    "28#remove mulptiple elements from a list\n",
    "l1 = [11,22,45,65,32,32,45,78]\n",
    "del l1[1:3]\n",
    "print(l1)"
   ]
  },
  {
   "cell_type": "code",
   "execution_count": 20,
   "id": "bfe12d17",
   "metadata": {},
   "outputs": [
    {
     "name": "stdout",
     "output_type": "stream",
     "text": [
      "[(12, 23), ('ram', 'shivam')]\n"
     ]
    }
   ],
   "source": [
    "#29 remove empty tuple from list\n",
    "list = [(),(12,23),(\"ram\",\"shivam\"),()]\n",
    "def remove_tup(tuple):\n",
    "    for i in list:\n",
    "        if (len(i)==0):\n",
    "            list.remove(i)\n",
    "    return list\n",
    "remove_tup(list)\n",
    "print(list)"
   ]
  },
  {
   "cell_type": "code",
   "execution_count": 26,
   "id": "f2418ef8",
   "metadata": {},
   "outputs": [
    {
     "name": "stdout",
     "output_type": "stream",
     "text": [
      "[1, 2, 5, 4, 6, 8, 7, 9]\n"
     ]
    }
   ],
   "source": [
    "#30 print duplicate in a list\n",
    "list = [1,1,1,2,2,2,5,4,6,8,7,9,8,7,4,9,8,7,4,6,5,5,6]\n",
    "new_list = []\n",
    "for i in list:\n",
    "    n= list.count(i)\n",
    "    if n>1:\n",
    "        if new_list.count(i)==0:\n",
    "            new_list.append(i)\n",
    "print(new_list)"
   ]
  },
  {
   "cell_type": "code",
   "execution_count": null,
   "id": "cce9091f",
   "metadata": {},
   "outputs": [],
   "source": []
  },
  {
   "cell_type": "code",
   "execution_count": null,
   "id": "823d703d",
   "metadata": {},
   "outputs": [],
   "source": []
  }
 ],
 "metadata": {
  "kernelspec": {
   "display_name": "Python 3 (ipykernel)",
   "language": "python",
   "name": "python3"
  },
  "language_info": {
   "codemirror_mode": {
    "name": "ipython",
    "version": 3
   },
   "file_extension": ".py",
   "mimetype": "text/x-python",
   "name": "python",
   "nbconvert_exporter": "python",
   "pygments_lexer": "ipython3",
   "version": "3.11.5"
  }
 },
 "nbformat": 4,
 "nbformat_minor": 5
}
